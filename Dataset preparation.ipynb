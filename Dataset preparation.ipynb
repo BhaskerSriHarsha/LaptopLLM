{
 "cells": [
  {
   "cell_type": "code",
   "execution_count": 1,
   "id": "cdefe212-2a55-40b7-98cf-c0d3f6ac2f95",
   "metadata": {},
   "outputs": [
    {
     "name": "stderr",
     "output_type": "stream",
     "text": [
      "C:\\Users\\BhaskerSriHarsha\\Documents\\Environments\\pyTorch\\Lib\\site-packages\\tqdm\\auto.py:21: TqdmWarning: IProgress not found. Please update jupyter and ipywidgets. See https://ipywidgets.readthedocs.io/en/stable/user_install.html\n",
      "  from .autonotebook import tqdm as notebook_tqdm\n"
     ]
    }
   ],
   "source": [
    "from datasets import load_dataset, Dataset\n",
    "from transformers import AutoTokenizer\n",
    "import pickle as pkl"
   ]
  },
  {
   "cell_type": "markdown",
   "id": "099b4a25-c492-475a-b292-53db4cf5ac3a",
   "metadata": {},
   "source": [
    "### Loading the tokenizer\n",
    "\n",
    "Using the instruct version of the base model. Code also works by formatting QA pairs using #Question and #Answer tags."
   ]
  },
  {
   "cell_type": "code",
   "execution_count": 7,
   "id": "d59bbca0-6b9c-4be9-8326-c4535e061e2b",
   "metadata": {},
   "outputs": [],
   "source": [
    "tokenizer = AutoTokenizer.from_pretrained(\"HuggingFaceTB/SmolLM-135M-Instruct\")"
   ]
  },
  {
   "cell_type": "markdown",
   "id": "b2d12fb0-f261-4a1d-8dc8-edb17c6c9e10",
   "metadata": {},
   "source": [
    "### Loading the main dataset"
   ]
  },
  {
   "cell_type": "code",
   "execution_count": 8,
   "id": "8cd0087f-3c25-4ef6-b242-8e82552d9a33",
   "metadata": {},
   "outputs": [],
   "source": [
    "ds = load_dataset(\"HuggingFaceTB/everyday-conversations-llama3.1-2k\")"
   ]
  },
  {
   "cell_type": "markdown",
   "id": "b7fc1d1d-fccc-482f-ba97-e71c4fd1ab5e",
   "metadata": {},
   "source": [
    "### Convert the dataset to chat format"
   ]
  },
  {
   "cell_type": "code",
   "execution_count": 9,
   "id": "a30bc44d-753a-4edd-851c-6028b4cb2f5a",
   "metadata": {},
   "outputs": [],
   "source": [
    "def convert_to_chat(dataset):\n",
    "    data = []\n",
    "    for i in dataset:\n",
    "        sample = i['messages']\n",
    "        for i,j in zip(sample, sample[1:]):\n",
    "            if i['role']=='user':\n",
    "                data.append({'text':tokenizer.apply_chat_template([i,j], tokenize=False)})\n",
    "    data = Dataset.from_list(data)\n",
    "    return data"
   ]
  },
  {
   "cell_type": "code",
   "execution_count": 10,
   "id": "82f653f6-a47f-4c35-a8ac-04831ff50f96",
   "metadata": {},
   "outputs": [],
   "source": [
    "train = convert_to_chat(ds['train_sft'])\n",
    "test = convert_to_chat(ds['test_sft'])"
   ]
  },
  {
   "cell_type": "code",
   "execution_count": 11,
   "id": "a92e99e5-4369-41d4-9948-230d5fd44cd2",
   "metadata": {},
   "outputs": [
    {
     "data": {
      "text/plain": [
       "(Dataset({\n",
       "     features: ['text'],\n",
       "     num_rows: 8625\n",
       " }),\n",
       " Dataset({\n",
       "     features: ['text'],\n",
       "     num_rows: 455\n",
       " }))"
      ]
     },
     "execution_count": 11,
     "metadata": {},
     "output_type": "execute_result"
    }
   ],
   "source": [
    "train, test"
   ]
  },
  {
   "cell_type": "code",
   "execution_count": 13,
   "id": "64701d1e-d5e4-47d4-b9c9-2cf560370d11",
   "metadata": {},
   "outputs": [
    {
     "name": "stdout",
     "output_type": "stream",
     "text": [
      "<|im_start|>user\n",
      "That makes sense. Why is biodiversity important?<|im_end|>\n",
      "<|im_start|>assistant\n",
      "Biodiversity is important because it helps maintain healthy ecosystems, supports the food chain, and provides many benefits to humans, such as clean air and water, food, and medicine.<|im_end|>\n",
      "\n"
     ]
    }
   ],
   "source": [
    "print(train[10]['text'])"
   ]
  },
  {
   "cell_type": "markdown",
   "id": "a647252c-bceb-4a0d-a8dd-388ebde2dd5a",
   "metadata": {},
   "source": [
    "### Dumping the dataset to disk"
   ]
  },
  {
   "cell_type": "code",
   "execution_count": 17,
   "id": "3ea212ca-654d-492d-8fe2-ddfb48cbc3f1",
   "metadata": {},
   "outputs": [],
   "source": [
    "pkl.dump(train, open(\"Dataset/ChatTrain.pkl\",\"wb\"))\n",
    "pkl.dump(test, open(\"Dataset/ChatTest.pkl\",\"wb\"))"
   ]
  },
  {
   "cell_type": "code",
   "execution_count": null,
   "id": "1910d59b-ae04-4614-a13f-f2bee5f0a7a6",
   "metadata": {},
   "outputs": [],
   "source": []
  }
 ],
 "metadata": {
  "kernelspec": {
   "display_name": "Python 3 (ipykernel)",
   "language": "python",
   "name": "python3"
  },
  "language_info": {
   "codemirror_mode": {
    "name": "ipython",
    "version": 3
   },
   "file_extension": ".py",
   "mimetype": "text/x-python",
   "name": "python",
   "nbconvert_exporter": "python",
   "pygments_lexer": "ipython3",
   "version": "3.12.3"
  }
 },
 "nbformat": 4,
 "nbformat_minor": 5
}
