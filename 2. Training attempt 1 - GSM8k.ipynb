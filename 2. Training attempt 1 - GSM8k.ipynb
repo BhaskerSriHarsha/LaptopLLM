{
 "cells": [
  {
   "cell_type": "markdown",
   "id": "ae464f3a-89d1-4591-9edb-f65fd7f3000c",
   "metadata": {},
   "source": [
    "# Load the model"
   ]
  },
  {
   "cell_type": "code",
   "execution_count": null,
   "id": "19bea430-bfb9-405f-ab83-ea570dfd7e0d",
   "metadata": {},
   "outputs": [],
   "source": [
    "from transformers import AutoModelForCausalLM, AutoTokenizer\n",
    "from transformers import BitsAndBytesConfig"
   ]
  },
  {
   "cell_type": "code",
   "execution_count": null,
   "id": "fc669f70-9354-480c-8943-23193fc2a8c4",
   "metadata": {},
   "outputs": [],
   "source": [
    "bnb_config = BitsAndBytesConfig(\n",
    "    load_in_8bit=True, \n",
    "    bnb_8bit_use_double_quant=True, \n",
    "    bnb_8bit_quant_type=\"nf4\" \n",
    ")"
   ]
  },
  {
   "cell_type": "code",
   "execution_count": null,
   "id": "b1f78f62-787c-435e-803d-8d14503058ad",
   "metadata": {},
   "outputs": [],
   "source": [
    "checkpoint = \"meta-llama/Llama-3.2-1B-Instruct\"\n",
    "device = \"cuda\""
   ]
  },
  {
   "cell_type": "code",
   "execution_count": null,
   "id": "1ce0ce6c-fe8f-4f5f-9a27-33a6703163fb",
   "metadata": {},
   "outputs": [],
   "source": [
    "\n",
    "tokenizer = AutoTokenizer.from_pretrained(checkpoint)\n",
    "tokenizer.pad_token = tokenizer.eos_token\n",
    "tokenizer.padding_side = \"right\""
   ]
  },
  {
   "cell_type": "code",
   "execution_count": null,
   "id": "24ca922d-027f-418d-8f11-de91e00df887",
   "metadata": {},
   "outputs": [],
   "source": [
    "model = AutoModelForCausalLM.from_pretrained(\n",
    "    checkpoint,\n",
    "    quantization_config=bnb_config,\n",
    "    device_map=\"auto\")"
   ]
  },
  {
   "cell_type": "code",
   "execution_count": null,
   "id": "1e69f322-2619-4729-a77d-69c882832a62",
   "metadata": {},
   "outputs": [],
   "source": [
    "# model = AutoModelForCausalLM.from_pretrained(checkpoint,device_map='auto')"
   ]
  },
  {
   "cell_type": "markdown",
   "id": "fc212d0e-7cf8-4353-b061-50e22f4da1c7",
   "metadata": {
    "jp-MarkdownHeadingCollapsed": true
   },
   "source": [
    "# Load the data"
   ]
  },
  {
   "cell_type": "code",
   "execution_count": null,
   "id": "efe7445e-1ed6-4bb5-8510-1cb8336a155a",
   "metadata": {},
   "outputs": [],
   "source": [
    "import pickle as pkl"
   ]
  },
  {
   "cell_type": "code",
   "execution_count": null,
   "id": "c12302b6-791a-476d-99ff-64549b49b245",
   "metadata": {},
   "outputs": [],
   "source": [
    "train_data = pkl.load(open(\"Dataset/GSM8k_train.pkl\",\"rb\"))\n",
    "val_data = pkl.load(open(\"Dataset/GSM8k_val.pkl\",\"rb\"))\n",
    "\n",
    "train_data, val_data"
   ]
  },
  {
   "cell_type": "markdown",
   "id": "e23c0740-3ab7-496e-9364-ef86cac26f3a",
   "metadata": {},
   "source": [
    "# Setup training infra"
   ]
  },
  {
   "cell_type": "code",
   "execution_count": null,
   "id": "75d19907-a88f-4d0e-8b8b-b08cebe2bedb",
   "metadata": {},
   "outputs": [],
   "source": [
    "from trl import SFTTrainer, SFTConfig\n",
    "from peft import LoraConfig"
   ]
  },
  {
   "cell_type": "code",
   "execution_count": null,
   "id": "09cdce2b-4158-432e-b296-faa1948cc759",
   "metadata": {},
   "outputs": [],
   "source": [
    "rank_dimension = 6\n",
    "lora_alpha = 8\n",
    "lora_dropout = 0.05\n",
    "\n",
    "peft_config = LoraConfig(\n",
    "    r=rank_dimension,  # Rank dimension - typically between 4-32\n",
    "    lora_alpha=lora_alpha,  # LoRA scaling factor - typically 2x rank\n",
    "    lora_dropout=lora_dropout,  # Dropout probability for LoRA layers\n",
    "    bias=\"none\",  # Bias type for LoRA. the corresponding biases will be updated during training.\n",
    "    target_modules=['q_proj', 'k_proj', 'v_proj'],  # Which modules to apply LoRA to\n",
    "    task_type=\"CAUSAL_LM\",  # Task type for model architecture,\n",
    ")"
   ]
  },
  {
   "cell_type": "code",
   "execution_count": null,
   "id": "1e7c2494-7179-42fa-aa6a-3633edfccab3",
   "metadata": {},
   "outputs": [],
   "source": [
    "sft_config = SFTConfig(\n",
    "    output_dir=\"./TrainingCheckpoints\",\n",
    "    max_steps=1000, \n",
    "    per_device_train_batch_size=1,\n",
    "    gradient_accumulation_steps=8,\n",
    "    gradient_checkpointing=True,\n",
    "    learning_rate=5e-5,\n",
    "    logging_steps=50,\n",
    "    save_steps=60,\n",
    "    eval_strategy=\"steps\",\n",
    "    eval_steps=5,\n",
    "    use_mps_device=(\n",
    "        True if device == \"mps\" else False\n",
    "    ),  # Use MPS for mixed precision training\n",
    "    report_to = 'none',\n",
    ")"
   ]
  },
  {
   "cell_type": "code",
   "execution_count": null,
   "id": "2402f89b-22b9-48e4-b871-d146e30cdf7e",
   "metadata": {},
   "outputs": [],
   "source": [
    "trainer = SFTTrainer(\n",
    "    model = model,\n",
    "    tokenizer = tokenizer,\n",
    "    train_dataset = train_data,\n",
    "    eval_dataset = val_data,\n",
    "    args = sft_config,\n",
    "    peft_config=peft_config, \n",
    ")"
   ]
  },
  {
   "cell_type": "markdown",
   "id": "0ec38f4d-110e-4dc3-be9c-50cdb3f0e4ba",
   "metadata": {},
   "source": [
    "# Train the model"
   ]
  },
  {
   "cell_type": "code",
   "execution_count": null,
   "id": "640d19de-f320-4dc7-9836-6f2e32dded2c",
   "metadata": {},
   "outputs": [],
   "source": [
    "trainer.train()\n",
    "# trainer.train(resume_from_checkpoint=True)"
   ]
  },
  {
   "cell_type": "code",
   "execution_count": null,
   "id": "f77df45c-ccc7-4295-ae75-5f040b7cc70f",
   "metadata": {
    "scrolled": true
   },
   "outputs": [],
   "source": [
    "trainer.state"
   ]
  },
  {
   "cell_type": "code",
   "execution_count": null,
   "id": "97168145-33c6-4da5-83ff-149e1a9b1e06",
   "metadata": {},
   "outputs": [],
   "source": [
    "import torch\n",
    "torch.cuda.empty_cache()"
   ]
  },
  {
   "cell_type": "markdown",
   "id": "e29f8c7b-475e-44e0-a368-005568336dfc",
   "metadata": {},
   "source": [
    "# Save the model"
   ]
  },
  {
   "cell_type": "code",
   "execution_count": null,
   "id": "3aa53a22-6e09-477b-8938-4d220da3610b",
   "metadata": {},
   "outputs": [],
   "source": [
    "trainer.save_model(\"1000_steps\")"
   ]
  },
  {
   "cell_type": "code",
   "execution_count": null,
   "id": "fa77a190-09aa-4417-9b25-14c4cbed4e09",
   "metadata": {},
   "outputs": [],
   "source": []
  }
 ],
 "metadata": {
  "kernelspec": {
   "display_name": "Python 3 (ipykernel)",
   "language": "python",
   "name": "python3"
  },
  "language_info": {
   "codemirror_mode": {
    "name": "ipython",
    "version": 3
   },
   "file_extension": ".py",
   "mimetype": "text/x-python",
   "name": "python",
   "nbconvert_exporter": "python",
   "pygments_lexer": "ipython3",
   "version": "3.12.3"
  }
 },
 "nbformat": 4,
 "nbformat_minor": 5
}
