{
 "cells": [
  {
   "cell_type": "markdown",
   "id": "ae464f3a-89d1-4591-9edb-f65fd7f3000c",
   "metadata": {},
   "source": [
    "# Load the model"
   ]
  },
  {
   "cell_type": "code",
   "execution_count": 1,
   "id": "19bea430-bfb9-405f-ab83-ea570dfd7e0d",
   "metadata": {},
   "outputs": [
    {
     "name": "stderr",
     "output_type": "stream",
     "text": [
      "C:\\Users\\BhaskerSriHarsha\\Documents\\Environments\\pyTorch\\Lib\\site-packages\\tqdm\\auto.py:21: TqdmWarning: IProgress not found. Please update jupyter and ipywidgets. See https://ipywidgets.readthedocs.io/en/stable/user_install.html\n",
      "  from .autonotebook import tqdm as notebook_tqdm\n"
     ]
    }
   ],
   "source": [
    "from transformers import AutoModelForCausalLM, AutoTokenizer"
   ]
  },
  {
   "cell_type": "code",
   "execution_count": 2,
   "id": "1e69f322-2619-4729-a77d-69c882832a62",
   "metadata": {},
   "outputs": [
    {
     "name": "stdout",
     "output_type": "stream",
     "text": [
      "Model is hosted on: cuda:0\n"
     ]
    }
   ],
   "source": [
    "checkpoint = \"HuggingFaceTB/SmolLM-135M\"\n",
    "\n",
    "tokenizer = AutoTokenizer.from_pretrained(checkpoint)\n",
    "tokenizer.pad_token = tokenizer.eos_token\n",
    "model = AutoModelForCausalLM.from_pretrained(checkpoint,device_map='auto')\n",
    "\n",
    "print(f\"Model is hosted on: {model.device}\")"
   ]
  },
  {
   "cell_type": "markdown",
   "id": "fc212d0e-7cf8-4353-b061-50e22f4da1c7",
   "metadata": {},
   "source": [
    "# Load the data"
   ]
  },
  {
   "cell_type": "code",
   "execution_count": 3,
   "id": "efe7445e-1ed6-4bb5-8510-1cb8336a155a",
   "metadata": {},
   "outputs": [],
   "source": [
    "import pickle as pkl"
   ]
  },
  {
   "cell_type": "code",
   "execution_count": 5,
   "id": "c12302b6-791a-476d-99ff-64549b49b245",
   "metadata": {},
   "outputs": [
    {
     "data": {
      "text/plain": [
       "(Dataset({\n",
       "     features: ['text'],\n",
       "     num_rows: 8625\n",
       " }),\n",
       " Dataset({\n",
       "     features: ['text'],\n",
       "     num_rows: 455\n",
       " }))"
      ]
     },
     "execution_count": 5,
     "metadata": {},
     "output_type": "execute_result"
    }
   ],
   "source": [
    "train_data = pkl.load(open(\"Dataset/ChatTrain.pkl\",\"rb\"))\n",
    "val_data = pkl.load(open(\"Dataset/ChatTest.pkl\",\"rb\"))\n",
    "\n",
    "train_data, val_data"
   ]
  },
  {
   "cell_type": "markdown",
   "id": "e23c0740-3ab7-496e-9364-ef86cac26f3a",
   "metadata": {},
   "source": [
    "# Setup training infra"
   ]
  },
  {
   "cell_type": "code",
   "execution_count": 6,
   "id": "75d19907-a88f-4d0e-8b8b-b08cebe2bedb",
   "metadata": {},
   "outputs": [],
   "source": [
    "from trl import SFTTrainer, SFTConfig"
   ]
  },
  {
   "cell_type": "code",
   "execution_count": 7,
   "id": "1e7c2494-7179-42fa-aa6a-3633edfccab3",
   "metadata": {},
   "outputs": [],
   "source": [
    "sft_config = SFTConfig(\n",
    "    output_dir=\"./ChatTraining_Checkpoints\",\n",
    "    max_steps=200, \n",
    "    per_device_train_batch_size=8,\n",
    "    gradient_accumulation_steps=16,\n",
    "    learning_rate=5e-5,\n",
    "    logging_steps=50,\n",
    "    save_steps=60,\n",
    "    save_total_limit=5,\n",
    "    eval_strategy=\"steps\",\n",
    "    eval_steps=50,\n",
    "    report_to = 'none',\n",
    ")"
   ]
  },
  {
   "cell_type": "code",
   "execution_count": 8,
   "id": "2402f89b-22b9-48e4-b871-d146e30cdf7e",
   "metadata": {},
   "outputs": [
    {
     "name": "stderr",
     "output_type": "stream",
     "text": [
      "Adding EOS to train dataset: 100%|███████████████████████████████████████| 8625/8625 [00:00<00:00, 16452.68 examples/s]\n",
      "Tokenizing train dataset: 100%|███████████████████████████████████████████| 8625/8625 [00:04<00:00, 1997.97 examples/s]\n",
      "Truncating train dataset: 100%|█████████████████████████████████████████| 8625/8625 [00:00<00:00, 479188.70 examples/s]\n",
      "Adding EOS to eval dataset: 100%|██████████████████████████████████████████| 455/455 [00:00<00:00, 12774.50 examples/s]\n",
      "Tokenizing eval dataset: 100%|██████████████████████████████████████████████| 455/455 [00:00<00:00, 2039.89 examples/s]\n",
      "Truncating eval dataset: 100%|█████████████████████████████████████████████| 455/455 [00:00<00:00, 90816.04 examples/s]\n"
     ]
    }
   ],
   "source": [
    "trainer = SFTTrainer(\n",
    "    model = model,\n",
    "    train_dataset = train_data,\n",
    "    eval_dataset = val_data,\n",
    "    args = sft_config)"
   ]
  },
  {
   "cell_type": "markdown",
   "id": "0ec38f4d-110e-4dc3-be9c-50cdb3f0e4ba",
   "metadata": {},
   "source": [
    "# Train the model"
   ]
  },
  {
   "cell_type": "code",
   "execution_count": 9,
   "id": "640d19de-f320-4dc7-9836-6f2e32dded2c",
   "metadata": {},
   "outputs": [
    {
     "data": {
      "text/html": [
       "\n",
       "    <div>\n",
       "      \n",
       "      <progress value='200' max='200' style='width:300px; height:20px; vertical-align: middle;'></progress>\n",
       "      [200/200 27:37, Epoch 2/3]\n",
       "    </div>\n",
       "    <table border=\"1\" class=\"dataframe\">\n",
       "  <thead>\n",
       " <tr style=\"text-align: left;\">\n",
       "      <th>Step</th>\n",
       "      <th>Training Loss</th>\n",
       "      <th>Validation Loss</th>\n",
       "    </tr>\n",
       "  </thead>\n",
       "  <tbody>\n",
       "    <tr>\n",
       "      <td>50</td>\n",
       "      <td>1.874700</td>\n",
       "      <td>1.243692</td>\n",
       "    </tr>\n",
       "    <tr>\n",
       "      <td>100</td>\n",
       "      <td>1.143500</td>\n",
       "      <td>1.165151</td>\n",
       "    </tr>\n",
       "    <tr>\n",
       "      <td>150</td>\n",
       "      <td>1.066100</td>\n",
       "      <td>1.144392</td>\n",
       "    </tr>\n",
       "    <tr>\n",
       "      <td>200</td>\n",
       "      <td>1.030000</td>\n",
       "      <td>1.139591</td>\n",
       "    </tr>\n",
       "  </tbody>\n",
       "</table><p>"
      ],
      "text/plain": [
       "<IPython.core.display.HTML object>"
      ]
     },
     "metadata": {},
     "output_type": "display_data"
    },
    {
     "data": {
      "text/plain": [
       "TrainOutput(global_step=200, training_loss=1.2785726928710937, metrics={'train_runtime': 1667.8538, 'train_samples_per_second': 15.349, 'train_steps_per_second': 0.12, 'total_flos': 1260704267373312.0, 'train_loss': 1.2785726928710937})"
      ]
     },
     "execution_count": 9,
     "metadata": {},
     "output_type": "execute_result"
    }
   ],
   "source": [
    "trainer.train()\n",
    "# trainer.train(resume_from_checkpoint=True)"
   ]
  },
  {
   "cell_type": "code",
   "execution_count": 10,
   "id": "97168145-33c6-4da5-83ff-149e1a9b1e06",
   "metadata": {},
   "outputs": [],
   "source": [
    "import torch\n",
    "torch.cuda.empty_cache()"
   ]
  },
  {
   "cell_type": "markdown",
   "id": "e29f8c7b-475e-44e0-a368-005568336dfc",
   "metadata": {},
   "source": [
    "# Save the model"
   ]
  },
  {
   "cell_type": "code",
   "execution_count": 11,
   "id": "3aa53a22-6e09-477b-8938-4d220da3610b",
   "metadata": {},
   "outputs": [],
   "source": [
    "trainer.save_model(\"SmolLM-Our-Instruct-vxx\")"
   ]
  },
  {
   "cell_type": "code",
   "execution_count": null,
   "id": "3f4d52c8-d63c-4af9-8701-786bd5b6abd1",
   "metadata": {},
   "outputs": [],
   "source": []
  }
 ],
 "metadata": {
  "kernelspec": {
   "display_name": "Python 3 (ipykernel)",
   "language": "python",
   "name": "python3"
  },
  "language_info": {
   "codemirror_mode": {
    "name": "ipython",
    "version": 3
   },
   "file_extension": ".py",
   "mimetype": "text/x-python",
   "name": "python",
   "nbconvert_exporter": "python",
   "pygments_lexer": "ipython3",
   "version": "3.12.3"
  }
 },
 "nbformat": 4,
 "nbformat_minor": 5
}
