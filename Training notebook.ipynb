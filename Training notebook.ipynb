{
 "cells": [
  {
   "cell_type": "markdown",
   "id": "ae464f3a-89d1-4591-9edb-f65fd7f3000c",
   "metadata": {},
   "source": [
    "# Load the model"
   ]
  },
  {
   "cell_type": "code",
   "execution_count": null,
   "id": "19bea430-bfb9-405f-ab83-ea570dfd7e0d",
   "metadata": {},
   "outputs": [],
   "source": [
    "from transformers import AutoModelForCausalLM, AutoTokenizer"
   ]
  },
  {
   "cell_type": "code",
   "execution_count": null,
   "id": "1e69f322-2619-4729-a77d-69c882832a62",
   "metadata": {},
   "outputs": [],
   "source": [
    "checkpoint = \"HuggingFaceTB/SmolLM-135M\"\n",
    "\n",
    "tokenizer = AutoTokenizer.from_pretrained(checkpoint)\n",
    "tokenizer.pad_token = tokenizer.eos_token\n",
    "model = AutoModelForCausalLM.from_pretrained(checkpoint,device_map='auto')\n",
    "\n",
    "print(f\"Model is hosted on: {model.device}\")"
   ]
  },
  {
   "cell_type": "markdown",
   "id": "fc212d0e-7cf8-4353-b061-50e22f4da1c7",
   "metadata": {},
   "source": [
    "# Load the data"
   ]
  },
  {
   "cell_type": "code",
   "execution_count": null,
   "id": "efe7445e-1ed6-4bb5-8510-1cb8336a155a",
   "metadata": {},
   "outputs": [],
   "source": [
    "import pickle as pkl"
   ]
  },
  {
   "cell_type": "code",
   "execution_count": null,
   "id": "c12302b6-791a-476d-99ff-64549b49b245",
   "metadata": {},
   "outputs": [],
   "source": [
    "train_data = pkl.load(open(\"../Dataset/ChatTrain2.pkl\",\"rb\"))\n",
    "val_data = pkl.load(open(\"../Dataset/ChatTest2.pkl\",\"rb\"))\n",
    "\n",
    "train_data, val_data"
   ]
  },
  {
   "cell_type": "markdown",
   "id": "e23c0740-3ab7-496e-9364-ef86cac26f3a",
   "metadata": {},
   "source": [
    "# Setup training infra"
   ]
  },
  {
   "cell_type": "code",
   "execution_count": null,
   "id": "75d19907-a88f-4d0e-8b8b-b08cebe2bedb",
   "metadata": {},
   "outputs": [],
   "source": [
    "from trl import SFTTrainer, SFTConfig"
   ]
  },
  {
   "cell_type": "code",
   "execution_count": null,
   "id": "1e7c2494-7179-42fa-aa6a-3633edfccab3",
   "metadata": {},
   "outputs": [],
   "source": [
    "sft_config = SFTConfig(\n",
    "    output_dir=\"./ChatTraining_3_Checkpoints\",\n",
    "    max_steps=200, \n",
    "    per_device_train_batch_size=8,\n",
    "    gradient_accumulation_steps=16,\n",
    "    learning_rate=5e-5,\n",
    "    logging_steps=50,\n",
    "    save_steps=60,\n",
    "    save_total_limit=5,\n",
    "    eval_strategy=\"steps\",\n",
    "    eval_steps=50,\n",
    "    report_to = 'none',\n",
    ")"
   ]
  },
  {
   "cell_type": "code",
   "execution_count": null,
   "id": "2402f89b-22b9-48e4-b871-d146e30cdf7e",
   "metadata": {},
   "outputs": [],
   "source": [
    "trainer = SFTTrainer(\n",
    "    model = model,\n",
    "    train_dataset = train_data,\n",
    "    eval_dataset = val_data,\n",
    "    args = sft_config)"
   ]
  },
  {
   "cell_type": "markdown",
   "id": "0ec38f4d-110e-4dc3-be9c-50cdb3f0e4ba",
   "metadata": {},
   "source": [
    "# Train the model"
   ]
  },
  {
   "cell_type": "code",
   "execution_count": null,
   "id": "640d19de-f320-4dc7-9836-6f2e32dded2c",
   "metadata": {},
   "outputs": [],
   "source": [
    "trainer.train()\n",
    "# trainer.train(resume_from_checkpoint=True)"
   ]
  },
  {
   "cell_type": "code",
   "execution_count": null,
   "id": "97168145-33c6-4da5-83ff-149e1a9b1e06",
   "metadata": {},
   "outputs": [],
   "source": [
    "import torch\n",
    "torch.cuda.empty_cache()"
   ]
  },
  {
   "cell_type": "markdown",
   "id": "e29f8c7b-475e-44e0-a368-005568336dfc",
   "metadata": {},
   "source": [
    "# Save the model"
   ]
  },
  {
   "cell_type": "code",
   "execution_count": null,
   "id": "3aa53a22-6e09-477b-8938-4d220da3610b",
   "metadata": {},
   "outputs": [],
   "source": [
    "trainer.save_model(\"SmolLM-Our-Instruct-vxx\")"
   ]
  }
 ],
 "metadata": {
  "kernelspec": {
   "display_name": "Python 3 (ipykernel)",
   "language": "python",
   "name": "python3"
  },
  "language_info": {
   "codemirror_mode": {
    "name": "ipython",
    "version": 3
   },
   "file_extension": ".py",
   "mimetype": "text/x-python",
   "name": "python",
   "nbconvert_exporter": "python",
   "pygments_lexer": "ipython3",
   "version": "3.12.3"
  }
 },
 "nbformat": 4,
 "nbformat_minor": 5
}
